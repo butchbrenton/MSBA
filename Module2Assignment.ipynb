{
 "cells": [
  {
   "cell_type": "markdown",
   "metadata": {},
   "source": [
    "# Temperature Conversion"
   ]
  },
  {
   "cell_type": "markdown",
   "metadata": {},
   "source": [
    "This program converts Fahrenheit to Celcius based upon user input.\n",
    "*  Data wrangling is in effect."
   ]
  },
  {
   "cell_type": "code",
   "execution_count": 3,
   "metadata": {},
   "outputs": [
    {
     "name": "stdout",
     "output_type": "stream",
     "text": [
      "Enter a Temperature in Degrees Fahrenheit to convert: sdf\n",
      "The value entered is not a number\n"
     ]
    }
   ],
   "source": [
    "# query user for input\n",
    "userInputF = input('Enter a Temperature in Degrees Fahrenheit to convert: ')\n",
    "# convert to Celcius and display result if an integer or floating pouint variable was entered\n",
    "try:\n",
    "    userInputF = float(userInputF)\n",
    "    tempConvC = (userInputF-32.0)*5/9\n",
    "    print (\"The Celsius equivalent of the temperature entered,\",userInputF,\" degrees, is\",tempConvC, \"degrees Celsius.\")\n",
    "# if entered value was not a number provide feedback\n",
    "except:\n",
    "    print('The value entered is not a number')"
   ]
  },
  {
   "cell_type": "code",
   "execution_count": null,
   "metadata": {},
   "outputs": [],
   "source": []
  },
  {
   "cell_type": "code",
   "execution_count": null,
   "metadata": {},
   "outputs": [],
   "source": []
  }
 ],
 "metadata": {
  "kernelspec": {
   "display_name": "Python 3",
   "language": "python",
   "name": "python3"
  },
  "language_info": {
   "codemirror_mode": {
    "name": "ipython",
    "version": 3
   },
   "file_extension": ".py",
   "mimetype": "text/x-python",
   "name": "python",
   "nbconvert_exporter": "python",
   "pygments_lexer": "ipython3",
   "version": "3.7.4"
  }
 },
 "nbformat": 4,
 "nbformat_minor": 2
}
